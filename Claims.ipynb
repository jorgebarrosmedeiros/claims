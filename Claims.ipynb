{
 "cells": [
  {
   "cell_type": "markdown",
   "id": "7fa8a68f",
   "metadata": {},
   "source": [
    "# 0.0. IMPORTS"
   ]
  },
  {
   "cell_type": "code",
   "execution_count": 102,
   "id": "33363429",
   "metadata": {},
   "outputs": [],
   "source": [
    "import pandas as pd\n",
    "import numpy as np\n",
    "\n",
    "import seaborn                as sns\n",
    "import matplotlib.pyplot      as plt\n",
    "\n",
    "from sqlalchemy import create_engine\n",
    "import sqlite3\n",
    "\n",
    "import warnings"
   ]
  },
  {
   "cell_type": "code",
   "execution_count": 7,
   "id": "e76ca1d6",
   "metadata": {},
   "outputs": [],
   "source": [
    "#method to display all columns and rows\n",
    "pd.set_option(\"display.max_columns\", None)\n",
    "pd.set_option(\"display.max_rows\", 200)\n",
    "pd.set_option('display.float_format', lambda x: '%.3f' % x)\n",
    "warnings.filterwarnings('ignore')"
   ]
  },
  {
   "cell_type": "markdown",
   "id": "5d421c91",
   "metadata": {},
   "source": [
    "## 0.1. Loading Data"
   ]
  },
  {
   "cell_type": "code",
   "execution_count": 2,
   "id": "43db57ca",
   "metadata": {},
   "outputs": [],
   "source": [
    "df_raw = pd.read_csv(\"claims.csv\")"
   ]
  },
  {
   "cell_type": "code",
   "execution_count": 4,
   "id": "2ad6a0d5",
   "metadata": {},
   "outputs": [
    {
     "data": {
      "text/html": [
       "<div>\n",
       "<style scoped>\n",
       "    .dataframe tbody tr th:only-of-type {\n",
       "        vertical-align: middle;\n",
       "    }\n",
       "\n",
       "    .dataframe tbody tr th {\n",
       "        vertical-align: top;\n",
       "    }\n",
       "\n",
       "    .dataframe thead th {\n",
       "        text-align: right;\n",
       "    }\n",
       "</style>\n",
       "<table border=\"1\" class=\"dataframe\">\n",
       "  <thead>\n",
       "    <tr style=\"text-align: right;\">\n",
       "      <th></th>\n",
       "      <th>claim_number</th>\n",
       "      <th>email</th>\n",
       "      <th>phone_number</th>\n",
       "      <th>claim_date</th>\n",
       "      <th>cost</th>\n",
       "    </tr>\n",
       "  </thead>\n",
       "  <tbody>\n",
       "    <tr>\n",
       "      <th>0</th>\n",
       "      <td>G269475</td>\n",
       "      <td>BobR8@gmail.com</td>\n",
       "      <td>(640) 065-0964</td>\n",
       "      <td>2018-07-11</td>\n",
       "      <td>0</td>\n",
       "    </tr>\n",
       "    <tr>\n",
       "      <th>1</th>\n",
       "      <td>R246552</td>\n",
       "      <td>GaryM7@gmail.com</td>\n",
       "      <td>(382) 379-5739</td>\n",
       "      <td>2018-03-03</td>\n",
       "      <td>985376</td>\n",
       "    </tr>\n",
       "    <tr>\n",
       "      <th>2</th>\n",
       "      <td>U548</td>\n",
       "      <td>TravisD9@gmail.com</td>\n",
       "      <td>(559) 200-5939</td>\n",
       "      <td>2018-11-09</td>\n",
       "      <td>651813</td>\n",
       "    </tr>\n",
       "    <tr>\n",
       "      <th>3</th>\n",
       "      <td>H498573</td>\n",
       "      <td>CindyT2@gmail.com</td>\n",
       "      <td>(909) 492-4494</td>\n",
       "      <td>2018-01-03</td>\n",
       "      <td>568141</td>\n",
       "    </tr>\n",
       "    <tr>\n",
       "      <th>4</th>\n",
       "      <td>L94564</td>\n",
       "      <td>JudeD0@gmail.com</td>\n",
       "      <td>(743) 137-5740</td>\n",
       "      <td>2018-02-22</td>\n",
       "      <td>0</td>\n",
       "    </tr>\n",
       "  </tbody>\n",
       "</table>\n",
       "</div>"
      ],
      "text/plain": [
       "  claim_number               email    phone_number  claim_date    cost\n",
       "0      G269475     BobR8@gmail.com  (640) 065-0964  2018-07-11       0\n",
       "1      R246552    GaryM7@gmail.com  (382) 379-5739  2018-03-03  985376\n",
       "2         U548  TravisD9@gmail.com  (559) 200-5939  2018-11-09  651813\n",
       "3      H498573   CindyT2@gmail.com  (909) 492-4494  2018-01-03  568141\n",
       "4       L94564    JudeD0@gmail.com  (743) 137-5740  2018-02-22       0"
      ]
     },
     "execution_count": 4,
     "metadata": {},
     "output_type": "execute_result"
    }
   ],
   "source": [
    "df_raw.head()"
   ]
  },
  {
   "cell_type": "markdown",
   "id": "4ec15297",
   "metadata": {},
   "source": [
    "### Summary\n",
    "\n",
    "- claim_number: a unique indicator for a claim\n",
    "- email: Claiment email\n",
    "- phone_number: Claiment phone number\n",
    "- claim_date: Claim date\n",
    "- cost: cost == 0 indicates that the claim was rejected and is a reasonable response"
   ]
  },
  {
   "cell_type": "markdown",
   "id": "275c36a0",
   "metadata": {},
   "source": [
    "# 1.0. DATA DESCRIPTION"
   ]
  },
  {
   "cell_type": "code",
   "execution_count": 18,
   "id": "a7aa0e89",
   "metadata": {},
   "outputs": [],
   "source": [
    "df1 = df_raw.copy()"
   ]
  },
  {
   "cell_type": "markdown",
   "id": "0f8b573f",
   "metadata": {},
   "source": [
    "## 1.1. Data Dimension"
   ]
  },
  {
   "cell_type": "markdown",
   "id": "0d460aeb",
   "metadata": {},
   "source": [
    "Let's understand how big our dataset is. This will be important because a robust machine learning model needs a considerable amount of data to train our algorithm. As you can see below, we have 1000 rows and 5 columns."
   ]
  },
  {
   "cell_type": "code",
   "execution_count": 19,
   "id": "e9dc407a",
   "metadata": {},
   "outputs": [
    {
     "name": "stdout",
     "output_type": "stream",
     "text": [
      "Number of Columns: 5\n",
      "Number of Rows: 1000\n"
     ]
    }
   ],
   "source": [
    "#Check number of columns and number of rows\n",
    "print(f\"Number of Columns: {df1.shape[1]}\")\n",
    "print(f\"Number of Rows: {df1.shape[0]}\")"
   ]
  },
  {
   "cell_type": "markdown",
   "id": "42cf4363",
   "metadata": {},
   "source": [
    "## 1.2. Change types"
   ]
  },
  {
   "cell_type": "markdown",
   "id": "6d72a5b8",
   "metadata": {},
   "source": [
    "This step is important for us to understand what is the type of our features. Therefore, we need to treat each variable according to its specific type ... for example, we cannot treat a date as a number or as a text, we cannot treat a number as a text. It is necessary for us to understand the context of our business for the changes to be made.\n",
    "\n",
    "As we can see below, our columns \"claim_date\" is like a \"object\"...we will change it to \"datetime\" type."
   ]
  },
  {
   "cell_type": "code",
   "execution_count": 20,
   "id": "fa30835c",
   "metadata": {},
   "outputs": [
    {
     "data": {
      "text/plain": [
       "claim_number    object\n",
       "email           object\n",
       "phone_number    object\n",
       "claim_date      object\n",
       "cost             int64\n",
       "dtype: object"
      ]
     },
     "execution_count": 20,
     "metadata": {},
     "output_type": "execute_result"
    }
   ],
   "source": [
    "df1.dtypes"
   ]
  },
  {
   "cell_type": "code",
   "execution_count": 21,
   "id": "878b57ed",
   "metadata": {},
   "outputs": [
    {
     "data": {
      "text/html": [
       "<div>\n",
       "<style scoped>\n",
       "    .dataframe tbody tr th:only-of-type {\n",
       "        vertical-align: middle;\n",
       "    }\n",
       "\n",
       "    .dataframe tbody tr th {\n",
       "        vertical-align: top;\n",
       "    }\n",
       "\n",
       "    .dataframe thead th {\n",
       "        text-align: right;\n",
       "    }\n",
       "</style>\n",
       "<table border=\"1\" class=\"dataframe\">\n",
       "  <thead>\n",
       "    <tr style=\"text-align: right;\">\n",
       "      <th></th>\n",
       "      <th>claim_number</th>\n",
       "      <th>email</th>\n",
       "      <th>phone_number</th>\n",
       "      <th>claim_date</th>\n",
       "      <th>cost</th>\n",
       "    </tr>\n",
       "  </thead>\n",
       "  <tbody>\n",
       "    <tr>\n",
       "      <th>0</th>\n",
       "      <td>G269475</td>\n",
       "      <td>BobR8@gmail.com</td>\n",
       "      <td>(640) 065-0964</td>\n",
       "      <td>2018-07-11</td>\n",
       "      <td>0</td>\n",
       "    </tr>\n",
       "    <tr>\n",
       "      <th>1</th>\n",
       "      <td>R246552</td>\n",
       "      <td>GaryM7@gmail.com</td>\n",
       "      <td>(382) 379-5739</td>\n",
       "      <td>2018-03-03</td>\n",
       "      <td>985376</td>\n",
       "    </tr>\n",
       "    <tr>\n",
       "      <th>2</th>\n",
       "      <td>U548</td>\n",
       "      <td>TravisD9@gmail.com</td>\n",
       "      <td>(559) 200-5939</td>\n",
       "      <td>2018-11-09</td>\n",
       "      <td>651813</td>\n",
       "    </tr>\n",
       "    <tr>\n",
       "      <th>3</th>\n",
       "      <td>H498573</td>\n",
       "      <td>CindyT2@gmail.com</td>\n",
       "      <td>(909) 492-4494</td>\n",
       "      <td>2018-01-03</td>\n",
       "      <td>568141</td>\n",
       "    </tr>\n",
       "    <tr>\n",
       "      <th>4</th>\n",
       "      <td>L94564</td>\n",
       "      <td>JudeD0@gmail.com</td>\n",
       "      <td>(743) 137-5740</td>\n",
       "      <td>2018-02-22</td>\n",
       "      <td>0</td>\n",
       "    </tr>\n",
       "  </tbody>\n",
       "</table>\n",
       "</div>"
      ],
      "text/plain": [
       "  claim_number               email    phone_number  claim_date    cost\n",
       "0      G269475     BobR8@gmail.com  (640) 065-0964  2018-07-11       0\n",
       "1      R246552    GaryM7@gmail.com  (382) 379-5739  2018-03-03  985376\n",
       "2         U548  TravisD9@gmail.com  (559) 200-5939  2018-11-09  651813\n",
       "3      H498573   CindyT2@gmail.com  (909) 492-4494  2018-01-03  568141\n",
       "4       L94564    JudeD0@gmail.com  (743) 137-5740  2018-02-22       0"
      ]
     },
     "execution_count": 21,
     "metadata": {},
     "output_type": "execute_result"
    }
   ],
   "source": [
    "df1.head()"
   ]
  },
  {
   "cell_type": "code",
   "execution_count": 22,
   "id": "86fd765c",
   "metadata": {},
   "outputs": [],
   "source": [
    "#change claim_date to datetime\n",
    "df1['claim_date'] = pd.to_datetime(df1['claim_date'])"
   ]
  },
  {
   "cell_type": "markdown",
   "id": "325c7e02",
   "metadata": {},
   "source": [
    "## 1.3. Check Missing Values"
   ]
  },
  {
   "cell_type": "markdown",
   "id": "bbc5fe1a",
   "metadata": {},
   "source": [
    "This step is extremely important because our machine learning algorithms are not able of handling null values. To solve this problem there is no right answer, it will depend on your business context, we have to be aware of it and test what will be best suited to that situation. There are three ways to fix this.\n",
    "\n",
    "Exclude lines with null values.\n",
    "Replace with the average or median, for example.\n",
    "Change according to the business context.\n",
    "This choice is very important because, if we choose to exclude the rows from our data set, depending on the amount of null values, we will eliminate a considerable amount of data so that our model could train."
   ]
  },
  {
   "cell_type": "code",
   "execution_count": 23,
   "id": "ba0b05d5",
   "metadata": {},
   "outputs": [
    {
     "data": {
      "text/plain": [
       "claim_number    1\n",
       "email           0\n",
       "phone_number    0\n",
       "claim_date      0\n",
       "cost            0\n",
       "dtype: int64"
      ]
     },
     "execution_count": 23,
     "metadata": {},
     "output_type": "execute_result"
    }
   ],
   "source": [
    "#check NA \n",
    "df1.isnull().sum().sort_values(ascending = False).head(30)"
   ]
  },
  {
   "cell_type": "code",
   "execution_count": 27,
   "id": "6307e34a",
   "metadata": {},
   "outputs": [],
   "source": [
    "#remove any entries without claim_number\n",
    "df1 = df1.loc[~df1['claim_number'].isna(),:]"
   ]
  },
  {
   "cell_type": "code",
   "execution_count": 28,
   "id": "07381f46",
   "metadata": {},
   "outputs": [
    {
     "data": {
      "text/plain": [
       "(999, 5)"
      ]
     },
     "execution_count": 28,
     "metadata": {},
     "output_type": "execute_result"
    }
   ],
   "source": [
    "df1.shape"
   ]
  },
  {
   "cell_type": "markdown",
   "id": "ba0edb45",
   "metadata": {},
   "source": [
    "## 1.4. Descriptive Statistical"
   ]
  },
  {
   "cell_type": "markdown",
   "id": "10ba1817",
   "metadata": {},
   "source": [
    "This step is essential. It is necessary that we separate the numerical variables from the categorical variables. Because each will have a different form of analysis."
   ]
  },
  {
   "cell_type": "code",
   "execution_count": 30,
   "id": "7cc3c3f5",
   "metadata": {},
   "outputs": [],
   "source": [
    "num_attributes = df1.select_dtypes(include = ['int64','float64'])"
   ]
  },
  {
   "cell_type": "markdown",
   "id": "22b6d535",
   "metadata": {},
   "source": [
    "For the numerical variables we use two types of analysis.\n",
    "\n",
    "Central tendency\n",
    "\n",
    "- average\n",
    "- median\n",
    "- Dispersion\n",
    "\n",
    "std - standard deviation\n",
    "- min\n",
    "- max\n",
    "- range\n",
    "- skew\n",
    "- kurtosis"
   ]
  },
  {
   "cell_type": "code",
   "execution_count": 33,
   "id": "13ee270e",
   "metadata": {},
   "outputs": [
    {
     "data": {
      "text/html": [
       "<div>\n",
       "<style scoped>\n",
       "    .dataframe tbody tr th:only-of-type {\n",
       "        vertical-align: middle;\n",
       "    }\n",
       "\n",
       "    .dataframe tbody tr th {\n",
       "        vertical-align: top;\n",
       "    }\n",
       "\n",
       "    .dataframe thead th {\n",
       "        text-align: right;\n",
       "    }\n",
       "</style>\n",
       "<table border=\"1\" class=\"dataframe\">\n",
       "  <thead>\n",
       "    <tr style=\"text-align: right;\">\n",
       "      <th></th>\n",
       "      <th>attributes</th>\n",
       "      <th>min</th>\n",
       "      <th>max</th>\n",
       "      <th>range</th>\n",
       "      <th>mean</th>\n",
       "      <th>median</th>\n",
       "      <th>std</th>\n",
       "      <th>skew</th>\n",
       "      <th>kurtosis</th>\n",
       "    </tr>\n",
       "  </thead>\n",
       "  <tbody>\n",
       "    <tr>\n",
       "      <th>0</th>\n",
       "      <td>cost</td>\n",
       "      <td>0.000</td>\n",
       "      <td>999999999999.000</td>\n",
       "      <td>999999999999.000</td>\n",
       "      <td>10010358932.251</td>\n",
       "      <td>295840.000</td>\n",
       "      <td>99547992065.484</td>\n",
       "      <td>9.859</td>\n",
       "      <td>95.393</td>\n",
       "    </tr>\n",
       "  </tbody>\n",
       "</table>\n",
       "</div>"
      ],
      "text/plain": [
       "  attributes   min              max            range            mean  \\\n",
       "0       cost 0.000 999999999999.000 999999999999.000 10010358932.251   \n",
       "\n",
       "      median             std  skew  kurtosis  \n",
       "0 295840.000 99547992065.484 9.859    95.393  "
      ]
     },
     "execution_count": 33,
     "metadata": {},
     "output_type": "execute_result"
    }
   ],
   "source": [
    "#Central Tendency - Mean, Median\n",
    "ct1 = pd.DataFrame(num_attributes.apply(np.mean)).T\n",
    "ct2 = pd.DataFrame(num_attributes.apply(np.median)).T\n",
    "\n",
    "#Dispersion - Std, Min, Max, Range, Skew, Kurtosis\n",
    "d1 = pd.DataFrame(num_attributes.apply(np.std)).T\n",
    "d2 = pd.DataFrame(num_attributes.apply(min)).T\n",
    "d3 = pd.DataFrame(num_attributes.apply(max)).T\n",
    "d4 = pd.DataFrame(num_attributes.apply(lambda x: x.max() - x.min())).T\n",
    "d5 = pd.DataFrame(num_attributes.apply(lambda x: x.skew())).T\n",
    "d6 = pd.DataFrame(num_attributes.apply(lambda x: x.kurtosis())).T\n",
    "\n",
    "\n",
    "m = pd.concat([d2,d3,d4,ct1,ct2,d1,d5,d6]).T.reset_index()\n",
    "m.columns = ['attributes','min','max','range','mean','median','std','skew','kurtosis']\n",
    "m"
   ]
  },
  {
   "cell_type": "markdown",
   "id": "64bf5b74",
   "metadata": {},
   "source": [
    "- High standard deviation;\n",
    "- Median too far from the mean, indicates a high dispersion in the data.\n",
    "- We can filter the outliers."
   ]
  },
  {
   "cell_type": "code",
   "execution_count": 53,
   "id": "1f3a22b2",
   "metadata": {},
   "outputs": [
    {
     "data": {
      "text/plain": [
       "count            999.000\n",
       "mean     10010358932.251\n",
       "std      99597853321.836\n",
       "min                0.000\n",
       "50%           295840.000\n",
       "75%           653670.000\n",
       "max     999999999999.000\n",
       "Name: cost, dtype: float64"
      ]
     },
     "execution_count": 53,
     "metadata": {},
     "output_type": "execute_result"
    }
   ],
   "source": [
    "df1['cost'].describe(percentiles=[0.75])"
   ]
  },
  {
   "cell_type": "code",
   "execution_count": 55,
   "id": "d41c0640",
   "metadata": {},
   "outputs": [
    {
     "data": {
      "text/plain": [
       "Text(0.5, 1.0, 'After Filtering')"
      ]
     },
     "execution_count": 55,
     "metadata": {},
     "output_type": "execute_result"
    },
    {
     "data": {
      "image/png": "[encoded data removed]",
      "text/plain": [
       "<Figure size 1500x500 with 2 Axes>"
      ]
     },
     "metadata": {},
     "output_type": "display_data"
    }
   ],
   "source": [
    "plt.figure(figsize = (15,5))\n",
    "plt.subplot(1,2,1)\n",
    "sns.boxplot(x = 'cost', data = df1)\n",
    "plt.box(False)\n",
    "plt.title(\"Before Filtering\")\n",
    "\n",
    "aux_df = df1[df1['cost'] <= 653670]\n",
    "plt.subplot(1,2,2)\n",
    "sns.boxplot(x = 'cost', data = aux_df)\n",
    "plt.box(False)\n",
    "plt.title(\"After Filtering\")"
   ]
  },
  {
   "cell_type": "markdown",
   "id": "1f16e96c",
   "metadata": {},
   "source": [
    "# 2.0. FEATURE ENGINEERING"
   ]
  },
  {
   "cell_type": "markdown",
   "id": "360f9d86",
   "metadata": {},
   "source": [
    "To compose this step, we created a mind map hypothesis. It's a easy tool to visualize every opinions about our business context. So, we'll create some features that will be useful in the exploratory data analysis and to get some insights, useful to understand what is the influence of each variable to our prediction variable. This step is useful to have organized data."
   ]
  },
  {
   "cell_type": "code",
   "execution_count": 63,
   "id": "384ebd4b",
   "metadata": {},
   "outputs": [],
   "source": [
    "df2 = df1.copy()"
   ]
  },
  {
   "cell_type": "code",
   "execution_count": 66,
   "id": "e0f810bc",
   "metadata": {},
   "outputs": [],
   "source": [
    "df2['claim_approved'] = df2['cost'].apply(lambda x: 1 if x > 0 else 0)"
   ]
  },
  {
   "cell_type": "code",
   "execution_count": 79,
   "id": "5e0d26e3",
   "metadata": {},
   "outputs": [],
   "source": [
    "# year\n",
    "df2['year'] = df2['claim_date'].dt.year\n",
    "\n",
    "# month\n",
    "df2['month'] = df2['claim_date'].dt.month\n",
    "\n",
    "# day\n",
    "df2['day'] = df2['claim_date'].dt.day\n",
    "\n",
    "# week of year\n",
    "df2['week_of_year'] = df2['claim_date'].dt.weekofyear\n",
    "\n",
    "# year week\n",
    "df2['year_week'] = df2['claim_date'].dt.strftime( '%Y-%W' )"
   ]
  },
  {
   "cell_type": "markdown",
   "id": "ab3b1d35",
   "metadata": {},
   "source": [
    "# 3.0. EXPLORATORY DATA ANALYSIS"
   ]
  },
  {
   "cell_type": "code",
   "execution_count": 80,
   "id": "4e42b4c5",
   "metadata": {},
   "outputs": [],
   "source": [
    "#checkpoint\n",
    "df3 = df2.copy()"
   ]
  },
  {
   "cell_type": "markdown",
   "id": "f8bf2507",
   "metadata": {},
   "source": [
    "## 3.1. Univariate Analysis"
   ]
  },
  {
   "cell_type": "markdown",
   "id": "50ebc5c4",
   "metadata": {},
   "source": [
    "Univariate analysis is the most basic form of statistical data analysis technique. When the data contains only one variable and doesn’t deal with a causes or effect relationships then a Univariate analysis technique is used."
   ]
  },
  {
   "cell_type": "markdown",
   "id": "86213cf5",
   "metadata": {},
   "source": [
    "### 3.1.1. Response Variable"
   ]
  },
  {
   "cell_type": "markdown",
   "id": "62fec964",
   "metadata": {},
   "source": [
    "We built a distplot to see how our response variable is distributed. As we can see, it is close to a normal distribution, however, it has a positive skewness, so it is shifted to the left. It is important to understand that machine learning, cost function or a neuron potential values are the quantities that are expected to be the sum of many independent processes (such as input features or activation potential of last layer) often have distributions that are nearly normal."
   ]
  },
  {
   "cell_type": "code",
   "execution_count": 69,
   "id": "31cea56b",
   "metadata": {},
   "outputs": [
    {
     "data": {
      "text/plain": [
       "Text(0.5, 1.0, 'After Filtering')"
      ]
     },
     "execution_count": 69,
     "metadata": {},
     "output_type": "execute_result"
    },
    {
     "data": {
      "image/png": "[encoded data removed]",
      "text/plain": [
       "<Figure size 1500x500 with 2 Axes>"
      ]
     },
     "metadata": {},
     "output_type": "display_data"
    },
    {
     "data": {
      "image/png": "[encoded data removed]",
      "text/plain": [
       "<Figure size 500x500 with 1 Axes>"
      ]
     },
     "metadata": {},
     "output_type": "display_data"
    }
   ],
   "source": [
    "plt.figure(figsize = (15,5))\n",
    "plt.subplot(2,1,1)\n",
    "sns.distplot(df3['cost'])\n",
    "plt.box(False)\n",
    "plt.title(\"Before Filtering\")\n",
    "\n",
    "\n",
    "aux_df = df3[df3['cost'] <= 653670]\n",
    "plt.subplot(2,1,2)\n",
    "sns.displot(aux_df['cost'])\n",
    "plt.box(False)\n",
    "plt.title(\"After Filtering\")"
   ]
  },
  {
   "cell_type": "markdown",
   "id": "002850ea",
   "metadata": {},
   "source": [
    "- This allows us to visualize that there is a strong concentration of claims that were denied, being quite representative.\n",
    "- In relation to the other values, there is not a very sudden variation in their respective percentages"
   ]
  },
  {
   "cell_type": "markdown",
   "id": "9eb45f9f",
   "metadata": {},
   "source": [
    "### 3.1.2. Numerical Variables"
   ]
  },
  {
   "cell_type": "code",
   "execution_count": 72,
   "id": "872e1632",
   "metadata": {},
   "outputs": [
    {
     "data": {
      "image/png": "[encoded data removed]",
      "text/plain": [
       "<Figure size 640x480 with 1 Axes>"
      ]
     },
     "metadata": {},
     "output_type": "display_data"
    }
   ],
   "source": [
    "num_attributes.hist(bins = 25);"
   ]
  },
  {
   "cell_type": "markdown",
   "id": "16e09442",
   "metadata": {},
   "source": [
    "### 3.1.3. Categorical Variables"
   ]
  },
  {
   "cell_type": "code",
   "execution_count": 75,
   "id": "76f97beb",
   "metadata": {},
   "outputs": [
    {
     "data": {
      "image/png": "[encoded data removed]",
      "text/plain": [
       "<Figure size 640x480 with 1 Axes>"
      ]
     },
     "metadata": {},
     "output_type": "display_data"
    }
   ],
   "source": [
    "sns.countplot(df3['claim_approved'])\n",
    "plt.box(False)"
   ]
  },
  {
   "cell_type": "code",
   "execution_count": 77,
   "id": "8d2acd64",
   "metadata": {},
   "outputs": [
    {
     "data": {
      "text/plain": [
       "1   0.701\n",
       "0   0.299\n",
       "Name: claim_approved, dtype: float64"
      ]
     },
     "execution_count": 77,
     "metadata": {},
     "output_type": "execute_result"
    }
   ],
   "source": [
    "df3['claim_approved'].value_counts(1)"
   ]
  },
  {
   "cell_type": "markdown",
   "id": "2595ec43",
   "metadata": {},
   "source": [
    "- 70% of claims were approved."
   ]
  },
  {
   "cell_type": "markdown",
   "id": "0a6dafbe",
   "metadata": {},
   "source": [
    "## 3.2. Bivariante Analysis"
   ]
  },
  {
   "cell_type": "markdown",
   "id": "cf25475d",
   "metadata": {},
   "source": [
    "### 3.2.1. Year_week x Cost"
   ]
  },
  {
   "cell_type": "code",
   "execution_count": 87,
   "id": "347d18c1",
   "metadata": {},
   "outputs": [
    {
     "data": {
      "text/plain": [
       "<Figure size 2500x700 with 0 Axes>"
      ]
     },
     "metadata": {},
     "output_type": "display_data"
    },
    {
     "data": {
      "image/png": "[encoded data removed]",
      "text/plain": [
       "<Figure size 640x480 with 1 Axes>"
      ]
     },
     "metadata": {},
     "output_type": "display_data"
    }
   ],
   "source": [
    "plt.figure(figsize = (25,7))\n",
    "aux1 = df3[['year_week','cost']].groupby('year_week').sum().reset_index()\n",
    "aux1.plot()\n",
    "plt.box(False)"
   ]
  },
  {
   "cell_type": "markdown",
   "id": "d22a478d",
   "metadata": {},
   "source": [
    "- There are weeks of the year when claims are not approved"
   ]
  },
  {
   "cell_type": "code",
   "execution_count": 92,
   "id": "9ce47eea",
   "metadata": {},
   "outputs": [
    {
     "data": {
      "text/html": [
       "<div>\n",
       "<style scoped>\n",
       "    .dataframe tbody tr th:only-of-type {\n",
       "        vertical-align: middle;\n",
       "    }\n",
       "\n",
       "    .dataframe tbody tr th {\n",
       "        vertical-align: top;\n",
       "    }\n",
       "\n",
       "    .dataframe thead th {\n",
       "        text-align: right;\n",
       "    }\n",
       "</style>\n",
       "<table border=\"1\" class=\"dataframe\">\n",
       "  <thead>\n",
       "    <tr style=\"text-align: right;\">\n",
       "      <th></th>\n",
       "      <th>claim_number</th>\n",
       "      <th>email</th>\n",
       "      <th>phone_number</th>\n",
       "      <th>claim_date</th>\n",
       "      <th>cost</th>\n",
       "      <th>claim_approved</th>\n",
       "      <th>year</th>\n",
       "      <th>month</th>\n",
       "      <th>day</th>\n",
       "      <th>week_of_year</th>\n",
       "      <th>year_week</th>\n",
       "    </tr>\n",
       "  </thead>\n",
       "  <tbody>\n",
       "    <tr>\n",
       "      <th>0</th>\n",
       "      <td>G269475</td>\n",
       "      <td>BobR8@gmail.com</td>\n",
       "      <td>(640) 065-0964</td>\n",
       "      <td>2018-07-11</td>\n",
       "      <td>0</td>\n",
       "      <td>0</td>\n",
       "      <td>2018</td>\n",
       "      <td>7</td>\n",
       "      <td>11</td>\n",
       "      <td>28</td>\n",
       "      <td>2018-28</td>\n",
       "    </tr>\n",
       "    <tr>\n",
       "      <th>1</th>\n",
       "      <td>R246552</td>\n",
       "      <td>GaryM7@gmail.com</td>\n",
       "      <td>(382) 379-5739</td>\n",
       "      <td>2018-03-03</td>\n",
       "      <td>985376</td>\n",
       "      <td>1</td>\n",
       "      <td>2018</td>\n",
       "      <td>3</td>\n",
       "      <td>3</td>\n",
       "      <td>9</td>\n",
       "      <td>2018-09</td>\n",
       "    </tr>\n",
       "    <tr>\n",
       "      <th>2</th>\n",
       "      <td>U548</td>\n",
       "      <td>TravisD9@gmail.com</td>\n",
       "      <td>(559) 200-5939</td>\n",
       "      <td>2018-11-09</td>\n",
       "      <td>651813</td>\n",
       "      <td>1</td>\n",
       "      <td>2018</td>\n",
       "      <td>11</td>\n",
       "      <td>9</td>\n",
       "      <td>45</td>\n",
       "      <td>2018-45</td>\n",
       "    </tr>\n",
       "    <tr>\n",
       "      <th>3</th>\n",
       "      <td>H498573</td>\n",
       "      <td>CindyT2@gmail.com</td>\n",
       "      <td>(909) 492-4494</td>\n",
       "      <td>2018-01-03</td>\n",
       "      <td>568141</td>\n",
       "      <td>1</td>\n",
       "      <td>2018</td>\n",
       "      <td>1</td>\n",
       "      <td>3</td>\n",
       "      <td>1</td>\n",
       "      <td>2018-01</td>\n",
       "    </tr>\n",
       "    <tr>\n",
       "      <th>4</th>\n",
       "      <td>L94564</td>\n",
       "      <td>JudeD0@gmail.com</td>\n",
       "      <td>(743) 137-5740</td>\n",
       "      <td>2018-02-22</td>\n",
       "      <td>0</td>\n",
       "      <td>0</td>\n",
       "      <td>2018</td>\n",
       "      <td>2</td>\n",
       "      <td>22</td>\n",
       "      <td>8</td>\n",
       "      <td>2018-08</td>\n",
       "    </tr>\n",
       "  </tbody>\n",
       "</table>\n",
       "</div>"
      ],
      "text/plain": [
       "  claim_number               email    phone_number claim_date    cost  \\\n",
       "0      G269475     BobR8@gmail.com  (640) 065-0964 2018-07-11       0   \n",
       "1      R246552    GaryM7@gmail.com  (382) 379-5739 2018-03-03  985376   \n",
       "2         U548  TravisD9@gmail.com  (559) 200-5939 2018-11-09  651813   \n",
       "3      H498573   CindyT2@gmail.com  (909) 492-4494 2018-01-03  568141   \n",
       "4       L94564    JudeD0@gmail.com  (743) 137-5740 2018-02-22       0   \n",
       "\n",
       "   claim_approved  year  month  day  week_of_year year_week  \n",
       "0               0  2018      7   11            28   2018-28  \n",
       "1               1  2018      3    3             9   2018-09  \n",
       "2               1  2018     11    9            45   2018-45  \n",
       "3               1  2018      1    3             1   2018-01  \n",
       "4               0  2018      2   22             8   2018-08  "
      ]
     },
     "execution_count": 92,
     "metadata": {},
     "output_type": "execute_result"
    }
   ],
   "source": [
    "df3.head()"
   ]
  },
  {
   "cell_type": "markdown",
   "id": "ae69950f",
   "metadata": {},
   "source": [
    "# 4.0. SAVE TO DATABASE"
   ]
  },
  {
   "cell_type": "code",
   "execution_count": 110,
   "id": "7c6c69c5",
   "metadata": {},
   "outputs": [],
   "source": [
    "df4 = df3.copy()"
   ]
  },
  {
   "cell_type": "code",
   "execution_count": 114,
   "id": "1c2e4b14",
   "metadata": {},
   "outputs": [],
   "source": [
    "df4 = df4[['claim_number', 'email', 'phone_number', 'claim_date', 'cost']]"
   ]
  },
  {
   "cell_type": "code",
   "execution_count": 115,
   "id": "806a6eae",
   "metadata": {},
   "outputs": [
    {
     "data": {
      "text/plain": [
       "999"
      ]
     },
     "execution_count": 115,
     "metadata": {},
     "output_type": "execute_result"
    }
   ],
   "source": [
    "conn = sqlite3.connect('claims.db')\n",
    "df4.to_sql('claims', conn, if_exists=\"replace\", index={'claim_number': True})"
   ]
  }
 ],
 "metadata": {
  "kernelspec": {
   "display_name": "Python 3 (ipykernel)",
   "language": "python",
   "name": "python3"
  },
  "language_info": {
   "codemirror_mode": {
    "name": "ipython",
    "version": 3
   },
   "file_extension": ".py",
   "mimetype": "text/x-python",
   "name": "python",
   "nbconvert_exporter": "python",
   "pygments_lexer": "ipython3",
   "version": "3.9.13"
  }
 },
 "nbformat": 4,
 "nbformat_minor": 5
}
